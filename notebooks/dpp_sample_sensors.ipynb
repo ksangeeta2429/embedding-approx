{
 "cells": [
  {
   "cell_type": "code",
   "execution_count": 1,
   "metadata": {},
   "outputs": [],
   "source": [
    "import os\n",
    "import h5py\n",
    "import json\n",
    "import numpy as np\n",
    "from numpy import linalg as la\n",
    "from scipy.linalg import eigh as largest_eigh\n",
    "from dppy.finite_dpps import FiniteDPP\n",
    "#Upgrade from v0.19.0 to v0.22.0\n",
    "from sklearn.metrics.pairwise import haversine_distances\n",
    "from math import radians\n",
    "from numpy.random import rand, randn, RandomState\n",
    "from dppy.finite_dpps import FiniteDPP\n",
    "from dppy.utils import example_eval_L_linear"
   ]
  },
  {
   "cell_type": "code",
   "execution_count": 2,
   "metadata": {},
   "outputs": [
    {
     "name": "stdout",
     "output_type": "stream",
     "text": [
      "Latitude and/or Longitude not present for sonycnode-b827ebfd616c.sonyc of size 6585176\n",
      "Latitude and/or Longitude not present for sonycnode-b827eb2c65db.sonyc of size 11211189038\n"
     ]
    }
   ],
   "source": [
    "sensor_json_path = '/beegfs/sk7898/nodes.json'\n",
    "feats_path = '/beegfs/work/sonyc/features/openl3/2017/' #Ex: sonycnode-b827eb132382.sonyc_features_openl3.h5\n",
    "\n",
    "# Load the json file with all nodes' information\n",
    "with open(sensor_json_path, 'r') as f:\n",
    "    datastore = json.load(f)\n",
    "\n",
    "sensor_feats_list = [s.split('_')[0] for s in os.listdir(feats_path)]\n",
    "sensors_list = []\n",
    "sensors_loc = []\n",
    "\n",
    "# Get the latitude and longitude of the sensors from which l3 features were extracted given:\n",
    "# 1. l3 feature file has size > 1432 (is not blank)\n",
    "# 2. latitude and longitude values are present in the json file\n",
    "for sensor_data in datastore:\n",
    "    sensor = sensor_data['fqdn'] \n",
    "    if sensor in sensor_feats_list:\n",
    "        feat_size = os.path.getsize(os.path.join(feats_path, sensor + '_features_openl3.h5'))\n",
    "        if sensor_data['latitude'] and sensor_data['longitude'] and feat_size > 6585176:\n",
    "            sensors_list.append(sensor)\n",
    "            sensors_loc.append([radians(sensor_data['latitude']), radians(sensor_data['longitude'])])\n",
    "        elif feat_size > 1432:\n",
    "            print('Latitude and/or Longitude not present for {} of size {}'.format(sensor, feat_size))"
   ]
  },
  {
   "cell_type": "code",
   "execution_count": 3,
   "metadata": {},
   "outputs": [],
   "source": [
    "# haversine_distances: https://scikit-learn.org/stable/modules/generated/sklearn.metrics.pairwise.haversine_distances.html\n",
    "L = haversine_distances(np.array(sensors_loc), np.array(sensors_loc))\n",
    "                        \n",
    "# In DPP, L is similarity matrix. So, higher L_ij implies lower probability of both i and j to be selected in the subset\n",
    "# In our case, the lower the distance between two sensors, lower is the chance of both i and j to be there in the subset\n",
    "\n",
    "# Reciprocate the haverstein_distances to conform with the way DPP operates on the Likelihood kernel\n",
    "# Since L_ii = 0, add epsilon to avoid divide-by-zero error\n",
    "L = 1/(L + 1e-15)"
   ]
  },
  {
   "cell_type": "code",
   "execution_count": 4,
   "metadata": {},
   "outputs": [
    {
     "name": "stdout",
     "output_type": "stream",
     "text": [
      "[[[4, 6, 1, 16, 23, 11, 22, 8, 7, 18], [4, 6, 1, 16, 23, 11, 22, 8, 7, 18], [4, 12, 1, 16, 23, 11, 22, 8, 7, 18], [4, 12, 1, 16, 23, 11, 22, 8, 3, 18], [4, 12, 1, 16, 23, 11, 22, 13, 3, 18], [4, 12, 1, 16, 23, 11, 22, 13, 5, 18], [4, 12, 1, 16, 23, 11, 3, 13, 5, 18], [4, 12, 1, 16, 23, 11, 3, 13, 5, 18], [4, 12, 1, 16, 17, 11, 3, 13, 5, 18], [4, 12, 1, 16, 9, 11, 3, 13, 5, 18]]]\n"
     ]
    }
   ],
   "source": [
    "# Sample 10 sensors out of 24 \n",
    "k = 10\n",
    "\n",
    "DPP = FiniteDPP('likelihood', **{'L': L})\n",
    "#DPP.plot_kernel()\n",
    "DPP.flush_samples()\n",
    "DPP.sample_mcmc_k_dpp(size=k)\n",
    "print(DPP.list_of_samples)"
   ]
  },
  {
   "cell_type": "code",
   "execution_count": 5,
   "metadata": {},
   "outputs": [
    {
     "name": "stdout",
     "output_type": "stream",
     "text": [
      "Sensor: sonycnode-b827ebf31214.sonyc Location: Vanderbilt (facing Mcdougel)\n",
      "Sensor: sonycnode-b827eb42bd4a.sonyc Location: Dibner (facing south)\n",
      "Sensor: sonycnode-b827eb252949.sonyc Location: Rogers (facing Jay St)\n",
      "Sensor: sonycnode-b827ebc7f772.sonyc Location: Broome Street Residence\n",
      "Sensor: sonycnode-b827ebb40450.sonyc Location: Pless Annex\n",
      "Sensor: sonycnode-b827eb0fedda.sonyc Location: Juan Carlos\n",
      "Sensor: sonycnode-b827eb4e7821.sonyc Location: Genomics pantry\n",
      "Sensor: sonycnode-b827eb29eb77.sonyc Location: Carlyle Court\n",
      "Sensor: sonycnode-b827eb4cc22e.sonyc Location: Education Building\n",
      "Sensor: sonycnode-b827eb5895e9.sonyc Location: James B Duke House (west)\n"
     ]
    }
   ],
   "source": [
    "# From the list of subsets, pick one subset\n",
    "subset = DPP.list_of_samples[0][0] \n",
    "\n",
    "sampled_sensors = [sensors_list[i] for i in subset]\n",
    "sampled_distances = [sensors_loc[i] for i in subset]\n",
    "#print(sampled_sensors)\n",
    "\n",
    "for sensor_data in datastore:\n",
    "    sensor = sensor_data['fqdn'] \n",
    "    if sensor in sampled_sensors:\n",
    "        print('Sensor: {} Location: {}'.format(sensor, sensor_data['title']))"
   ]
  },
  {
   "cell_type": "markdown",
   "metadata": {},
   "source": [
    "**Plot the distance matrix of all the 24 sensors**"
   ]
  },
  {
   "cell_type": "code",
   "execution_count": 6,
   "metadata": {},
   "outputs": [
    {
     "data": {
      "image/png": "[encoded data removed]",
      "text/plain": [
       "<Figure size 432x288 with 2 Axes>"
      ]
     },
     "metadata": {},
     "output_type": "display_data"
    }
   ],
   "source": [
    "DPP.flush_samples()\n",
    "L_orig = haversine_distances(np.array(sensors_loc), np.array(sensors_loc))\n",
    "DPP = FiniteDPP('likelihood', **{'L': L_orig})\n",
    "DPP.plot_kernel()"
   ]
  },
  {
   "cell_type": "markdown",
   "metadata": {},
   "source": [
    "**Plot the distance matrix of the sampled sensors**"
   ]
  },
  {
   "cell_type": "code",
   "execution_count": 7,
   "metadata": {},
   "outputs": [
    {
     "data": {
      "image/png": "[encoded data removed]",
      "text/plain": [
       "<Figure size 432x288 with 2 Axes>"
      ]
     },
     "metadata": {},
     "output_type": "display_data"
    }
   ],
   "source": [
    "L_new = haversine_distances(np.array(sampled_distances), np.array(sampled_distances))\n",
    "DPP = FiniteDPP('likelihood', **{'L': L_new})\n",
    "DPP.plot_kernel()"
   ]
  },
  {
   "cell_type": "code",
   "execution_count": 8,
   "metadata": {},
   "outputs": [],
   "source": [
    "# Add sonycnode-b827eb2c65db.sonyc in the subset"
   ]
  }
 ],
 "metadata": {
  "kernelspec": {
   "display_name": "Python 3",
   "language": "python",
   "name": "python3"
  },
  "language_info": {
   "codemirror_mode": {
    "name": "ipython",
    "version": 3
   },
   "file_extension": ".py",
   "mimetype": "text/x-python",
   "name": "python",
   "nbconvert_exporter": "python",
   "pygments_lexer": "ipython3",
   "version": "3.6.7"
  }
 },
 "nbformat": 4,
 "nbformat_minor": 2
}
