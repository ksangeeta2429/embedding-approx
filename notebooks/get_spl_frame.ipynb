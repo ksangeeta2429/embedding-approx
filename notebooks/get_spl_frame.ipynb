{
 "cells": [
  {
   "cell_type": "code",
   "execution_count": 9,
   "metadata": {},
   "outputs": [],
   "source": [
    "import numpy as np\n",
    "import h5py\n",
    "import os\n",
    "import datetime"
   ]
  },
  {
   "cell_type": "code",
   "execution_count": 38,
   "metadata": {},
   "outputs": [],
   "source": [
    "def pretty_print(timestamp, index, timestamp_frame, spl_ts, dBA_idx):\n",
    "    print('Timestamp of feature file: {}'.format(timestamp))\n",
    "    print('Timestamp of index {} of feature file: {}'.format(index, timestamp_frame))\n",
    "    print('Min of SPL timestamp: {}'.format(np.min(spl_ts['timestamp'])))\n",
    "    print('Max of SPL timestamp: {}'.format(np.max(spl_ts['timestamp'])))\n",
    "    print('Chosen timestamp: {}'.format(spl_ts['timestamp'][dBA_idx]))"
   ]
  },
  {
   "cell_type": "code",
   "execution_count": 39,
   "metadata": {},
   "outputs": [],
   "source": [
    "def get_frame_spl(timestamp, frame_index, spl_ts, hop_size=0.5):\n",
    "    #Convert timestamp to datetime so that we can add seconds to the datetime\n",
    "    dt = datetime.datetime.fromtimestamp(timestamp)\n",
    "    \n",
    "    #Add the frame offset (in seconds) to the timestamp of the 10 sec data\n",
    "    dt_frame = dt + datetime.timedelta(seconds=frame_index * hop_size)\n",
    "    \n",
    "    #Convert datetime back to timestamp\n",
    "    timestamp_frame = datetime.datetime.timestamp(dt_frame)\n",
    "    \n",
    "    #Index of first occurrence of minimum of values for closest timestamp from spl data\n",
    "    dBA_idx = np.argmin(np.abs(spl_ts['timestamp'] - timestamp_frame))\n",
    "    pretty_print(timestamp, frame_index, timestamp_frame, spl_ts, dBA_idx)\n",
    "    return spl_ts['dBAS'][dBA_idx]"
   ]
  },
  {
   "cell_type": "code",
   "execution_count": 40,
   "metadata": {},
   "outputs": [
    {
     "name": "stdout",
     "output_type": "stream",
     "text": [
      "Timestamp of feature file: 1484338637.66\n",
      "Timestamp of index 4 of feature file: 1484338639.66\n",
      "Min of SPL timestamp: 1484338479.84\n",
      "Max of SPL timestamp: 1514782799.6\n",
      "Chosen timestamp: 1484338639.86\n"
     ]
    }
   ],
   "source": [
    "random_row = 5\n",
    "features_folder = '/beegfs/work/sonyc/features/openl3/2017'\n",
    "spl_folder = '/beegfs/work/sonyc/spl/2017'\n",
    "features_file = 'sonycnode-b827eb0d8af7.sonyc_features_openl3.h5'\n",
    "\n",
    "spl_filename = features_file.replace('sonyc_features_openl3', 'sonyc')\n",
    "spl_file = os.path.join(spl_folder, spl_filename)\n",
    "spl_h5 = h5py.File(spl_file)\n",
    "spl_ts = spl_h5['second_intervals']\n",
    "\n",
    "feats_file = os.path.join(features_folder, features_file)\n",
    "feats_h5 = h5py.File(feats_file)\n",
    "timestamp = feats_h5['openl3'][random_row]['timestamp']\n",
    "\n",
    "dBA_frame = get_frame_spl(timestamp, 4, spl_ts)"
   ]
  },
  {
   "cell_type": "code",
   "execution_count": 41,
   "metadata": {},
   "outputs": [
    {
     "name": "stdout",
     "output_type": "stream",
     "text": [
      "SPL of the frame: 68.0\n"
     ]
    }
   ],
   "source": [
    "print('SPL of the frame: {}'. format(dBA_frame))"
   ]
  },
  {
   "cell_type": "code",
   "execution_count": null,
   "metadata": {},
   "outputs": [],
   "source": []
  }
 ],
 "metadata": {
  "kernelspec": {
   "display_name": "Python 3",
   "language": "python",
   "name": "python3"
  },
  "language_info": {
   "codemirror_mode": {
    "name": "ipython",
    "version": 3
   },
   "file_extension": ".py",
   "mimetype": "text/x-python",
   "name": "python",
   "nbconvert_exporter": "python",
   "pygments_lexer": "ipython3",
   "version": "3.6.2"
  }
 },
 "nbformat": 4,
 "nbformat_minor": 2
}
